{
  "nbformat": 4,
  "nbformat_minor": 0,
  "metadata": {
    "colab": {
      "provenance": [],
      "gpuType": "T4",
      "include_colab_link": true
    },
    "kernelspec": {
      "name": "python3",
      "display_name": "Python 3"
    },
    "language_info": {
      "name": "python"
    },
    "accelerator": "GPU"
  },
  "cells": [
    {
      "cell_type": "markdown",
      "metadata": {
        "id": "view-in-github",
        "colab_type": "text"
      },
      "source": [
        "<a href=\"https://colab.research.google.com/github/ahmedyahia01/ComfyUI-Colab/blob/main/ComfyUI_Installer.ipynb\" target=\"_parent\"><img src=\"https://colab.research.google.com/assets/colab-badge.svg\" alt=\"Open In Colab\"/></a>"
      ]
    },
    {
      "cell_type": "code",
      "source": [
        "# @title خلية التحقق من وجود GPU\n",
        "!nvidia-smi"
      ],
      "metadata": {
        "colab": {
          "base_uri": "https://localhost:8080/"
        },
        "id": "7ZqDwuPh_Jlu",
        "outputId": "9340ba3e-56c0-461c-e58e-c263b2656c97"
      },
      "execution_count": 1,
      "outputs": [
        {
          "output_type": "stream",
          "name": "stdout",
          "text": [
            "Mon Aug 11 08:07:40 2025       \n",
            "+-----------------------------------------------------------------------------------------+\n",
            "| NVIDIA-SMI 550.54.15              Driver Version: 550.54.15      CUDA Version: 12.4     |\n",
            "|-----------------------------------------+------------------------+----------------------+\n",
            "| GPU  Name                 Persistence-M | Bus-Id          Disp.A | Volatile Uncorr. ECC |\n",
            "| Fan  Temp   Perf          Pwr:Usage/Cap |           Memory-Usage | GPU-Util  Compute M. |\n",
            "|                                         |                        |               MIG M. |\n",
            "|=========================================+========================+======================|\n",
            "|   0  Tesla T4                       Off |   00000000:00:04.0 Off |                    0 |\n",
            "| N/A   68C    P8             10W /   70W |       0MiB /  15360MiB |      0%      Default |\n",
            "|                                         |                        |                  N/A |\n",
            "+-----------------------------------------+------------------------+----------------------+\n",
            "                                                                                         \n",
            "+-----------------------------------------------------------------------------------------+\n",
            "| Processes:                                                                              |\n",
            "|  GPU   GI   CI        PID   Type   Process name                              GPU Memory |\n",
            "|        ID   ID                                                               Usage      |\n",
            "|=========================================================================================|\n",
            "|  No running processes found                                                             |\n",
            "+-----------------------------------------------------------------------------------------+\n"
          ]
        }
      ]
    },
    {
      "cell_type": "code",
      "execution_count": 11,
      "metadata": {
        "id": "t79kpJAPWqYV",
        "colab": {
          "base_uri": "https://localhost:8080/"
        },
        "outputId": "9012cbeb-f625-4f78-87d2-50861d8b4383"
      },
      "outputs": [
        {
          "output_type": "stream",
          "name": "stdout",
          "text": [
            "--- التحقق من المفاتيح السرية ---\n",
            "✅ تم العثور على جميع المفاتيح السرية المطلوبة.\n"
          ]
        }
      ],
      "source": [
        "\n",
        "# @title الخلية 1: التحقق من المفاتيح السرية\n",
        "import os\n",
        "from google.colab import userdata\n",
        "\n",
        "print(\"--- التحقق من المفاتيح السرية ---\")\n",
        "# التحقق من وجود المفاتيح المطلوبة في Colab Secrets\n",
        "try:\n",
        "    hf_token = userdata.get('HF_TOKEN')\n",
        "    ngrok_token = userdata.get('NGROK_AUTH_TOKEN')\n",
        "    if not hf_token or not ngrok_token:\n",
        "        raise ValueError(\"أحد المفاتيح (HF_TOKEN أو NGROK_AUTH_TOKEN) غير موجود.\")\n",
        "    print(\"✅ تم العثور على جميع المفاتيح السرية المطلوبة.\")\n",
        "except Exception as e:\n",
        "    print(f\"❌ خطأ: {e}\")\n",
        "    print(\"   الرجاء التأكد من إضافة HF_TOKEN و NGROK_AUTH_TOKEN في قسم الأسرار (🔑).\")"
      ]
    },
    {
      "cell_type": "code",
      "source": [
        "\n",
        "# @title الخلية 2: التثبيت الشامل والنهائي (على بيئة Colab المؤقتة)\n",
        "import os\n",
        "from huggingface_hub import hf_hub_download\n",
        "from google.colab import userdata\n",
        "\n",
        "# --- 1/4: تثبيت ComfyUI بشكل كامل ---\n",
        "print(\"--- 1/4: جاري تحميل وتثبيت نسخة كاملة من ComfyUI...\")\n",
        "COMFYUI_DIR = \"/content/ComfyUI\"\n",
        "get_ipython().system(f'git clone --recurse-submodules https://github.com/comfyanonymous/ComfyUI.git \"{COMFYUI_DIR}\"')\n",
        "print(\"✅ تم تثبيت ComfyUI بشكل كامل وسليم.\")\n",
        "\n",
        "# --- 2/4: تثبيت المتطلبات البرمجية ---\n",
        "print(\"\\n--- 2/4: تثبيت كل المتطلبات البرمجية...\")\n",
        "%cd $COMFYUI_DIR\n",
        "print(\"   - إزالة xformers من المتطلبات لتجنب التعارض...\")\n",
        "get_ipython().system(f\"sed -i '/xformers/d' requirements.txt\")\n",
        "print(\"   - تثبيت المتطلبات الأساسية...\")\n",
        "get_ipython().system('pip install -r requirements.txt --quiet')\n",
        "print(\"   - تثبيت مكتبة uv الإضافية...\")\n",
        "get_ipython().system('pip install uv --quiet')\n",
        "print(\"✅ تم تثبيت كل المتطلبات بنجاح.\")\n",
        "\n",
        "# --- 3/4: تثبيت الإضافات (Custom Nodes) ---\n",
        "print(\"\\n--- 3/4: تثبيت الإضافات...\")\n",
        "nodes_dir = os.path.join(COMFYUI_DIR, \"custom_nodes\")\n",
        "%cd $nodes_dir\n",
        "get_ipython().system('git clone https://github.com/ltdrdata/ComfyUI-Manager.git --quiet')\n",
        "get_ipython().system('git clone https://github.com/ltdrdata/ComfyUI-Impact-Pack.git --quiet')\n",
        "manager_req = os.path.join(nodes_dir, \"ComfyUI-Manager\", \"requirements.txt\")\n",
        "if os.path.exists(manager_req):\n",
        "    get_ipython().system(f'pip install -r {manager_req} --quiet')\n",
        "print(\"✅ تم تثبيت الإضافات بنجاح.\")\n",
        "\n",
        "# --- 4/4: تحميل النموذج الأساسي ---\n",
        "print(\"\\n--- 4/4: تحميل النموذج الأساسي (هذه الخطوة قد تستغرق وقتاً طويلاً)...\")\n",
        "checkpoints_dir = os.path.join(COMFYUI_DIR, \"models\", \"checkpoints\")\n",
        "os.makedirs(checkpoints_dir, exist_ok=True)\n",
        "hf_token = userdata.get('HF_TOKEN')\n",
        "try:\n",
        "    hf_hub_download(\n",
        "        repo_id=\"stabilityai/stable-diffusion-3-medium\",\n",
        "        filename=\"sd3_medium_incl_clips.safetensors\",\n",
        "        local_dir=checkpoints_dir,\n",
        "        local_dir_use_symlinks=False,\n",
        "        token=hf_token\n",
        "    )\n",
        "    print(\"   - ✅ تم تحميل النموذج بنجاح.\")\n",
        "except Exception as e:\n",
        "    print(f\"   - ❌ فشل تحميل النموذج. الخطأ: {e}\")\n",
        "\n",
        "print(\"\\n🎉🎉🎉 اكتمل الإعداد الكامل والنهائي! 🎉🎉🎉\")"
      ],
      "metadata": {
        "id": "S0QmviVFXYdZ",
        "outputId": "bf9f8b17-d907-4654-c054-5efb35f00bee",
        "colab": {
          "base_uri": "https://localhost:8080/"
        }
      },
      "execution_count": 2,
      "outputs": [
        {
          "output_type": "stream",
          "name": "stdout",
          "text": [
            "--- 1/4: جاري تحميل وتثبيت نسخة كاملة من ComfyUI...\n",
            "Cloning into '/content/ComfyUI'...\n",
            "remote: Enumerating objects: 22905, done.\u001b[K\n",
            "remote: Total 22905 (delta 0), reused 0 (delta 0), pack-reused 22905 (from 1)\u001b[K\n",
            "Receiving objects: 100% (22905/22905), 72.04 MiB | 17.98 MiB/s, done.\n",
            "Resolving deltas: 100% (15367/15367), done.\n",
            "✅ تم تثبيت ComfyUI بشكل كامل وسليم.\n",
            "\n",
            "--- 2/4: تثبيت كل المتطلبات البرمجية...\n",
            "/content/ComfyUI\n",
            "   - إزالة xformers من المتطلبات لتجنب التعارض...\n",
            "   - تثبيت المتطلبات الأساسية...\n",
            "\u001b[2K     \u001b[90m━━━━━━━━━━━━━━━━━━━━━━━━━━━━━━━━━━━━━━━━\u001b[0m \u001b[32m55.9/55.9 kB\u001b[0m \u001b[31m3.2 MB/s\u001b[0m eta \u001b[36m0:00:00\u001b[0m\n",
            "\u001b[2K   \u001b[90m━━━━━━━━━━━━━━━━━━━━━━━━━━━━━━━━━━━━━━━━\u001b[0m \u001b[32m9.3/9.3 MB\u001b[0m \u001b[31m97.9 MB/s\u001b[0m eta \u001b[36m0:00:00\u001b[0m\n",
            "\u001b[2K   \u001b[90m━━━━━━━━━━━━━━━━━━━━━━━━━━━━━━━━━━━━━━━━\u001b[0m \u001b[32m65.9/65.9 MB\u001b[0m \u001b[31m15.1 MB/s\u001b[0m eta \u001b[36m0:00:00\u001b[0m\n",
            "\u001b[2K   \u001b[90m━━━━━━━━━━━━━━━━━━━━━━━━━━━━━━━━━━━━━━━━\u001b[0m \u001b[32m1.0/1.0 MB\u001b[0m \u001b[31m62.2 MB/s\u001b[0m eta \u001b[36m0:00:00\u001b[0m\n",
            "\u001b[2K   \u001b[90m━━━━━━━━━━━━━━━━━━━━━━━━━━━━━━━━━━━━━━━━\u001b[0m \u001b[32m363.4/363.4 MB\u001b[0m \u001b[31m1.6 MB/s\u001b[0m eta \u001b[36m0:00:00\u001b[0m\n",
            "\u001b[2K   \u001b[90m━━━━━━━━━━━━━━━━━━━━━━━━━━━━━━━━━━━━━━━━\u001b[0m \u001b[32m13.8/13.8 MB\u001b[0m \u001b[31m124.5 MB/s\u001b[0m eta \u001b[36m0:00:00\u001b[0m\n",
            "\u001b[2K   \u001b[90m━━━━━━━━━━━━━━━━━━━━━━━━━━━━━━━━━━━━━━━━\u001b[0m \u001b[32m24.6/24.6 MB\u001b[0m \u001b[31m95.4 MB/s\u001b[0m eta \u001b[36m0:00:00\u001b[0m\n",
            "\u001b[2K   \u001b[90m━━━━━━━━━━━━━━━━━━━━━━━━━━━━━━━━━━━━━━━━\u001b[0m \u001b[32m883.7/883.7 kB\u001b[0m \u001b[31m60.6 MB/s\u001b[0m eta \u001b[36m0:00:00\u001b[0m\n",
            "\u001b[2K   \u001b[90m━━━━━━━━━━━━━━━━━━━━━━━━━━━━━━━━━━━━━━━━\u001b[0m \u001b[32m664.8/664.8 MB\u001b[0m \u001b[31m2.1 MB/s\u001b[0m eta \u001b[36m0:00:00\u001b[0m\n",
            "\u001b[2K   \u001b[90m━━━━━━━━━━━━━━━━━━━━━━━━━━━━━━━━━━━━━━━━\u001b[0m \u001b[32m211.5/211.5 MB\u001b[0m \u001b[31m5.6 MB/s\u001b[0m eta \u001b[36m0:00:00\u001b[0m\n",
            "\u001b[2K   \u001b[90m━━━━━━━━━━━━━━━━━━━━━━━━━━━━━━━━━━━━━━━━\u001b[0m \u001b[32m56.3/56.3 MB\u001b[0m \u001b[31m12.8 MB/s\u001b[0m eta \u001b[36m0:00:00\u001b[0m\n",
            "\u001b[2K   \u001b[90m━━━━━━━━━━━━━━━━━━━━━━━━━━━━━━━━━━━━━━━━\u001b[0m \u001b[32m127.9/127.9 MB\u001b[0m \u001b[31m7.3 MB/s\u001b[0m eta \u001b[36m0:00:00\u001b[0m\n",
            "\u001b[2K   \u001b[90m━━━━━━━━━━━━━━━━━━━━━━━━━━━━━━━━━━━━━━━━\u001b[0m \u001b[32m207.5/207.5 MB\u001b[0m \u001b[31m6.6 MB/s\u001b[0m eta \u001b[36m0:00:00\u001b[0m\n",
            "\u001b[2K   \u001b[90m━━━━━━━━━━━━━━━━━━━━━━━━━━━━━━━━━━━━━━━━\u001b[0m \u001b[32m188.7/188.7 MB\u001b[0m \u001b[31m5.7 MB/s\u001b[0m eta \u001b[36m0:00:00\u001b[0m\n",
            "\u001b[2K   \u001b[90m━━━━━━━━━━━━━━━━━━━━━━━━━━━━━━━━━━━━━━━━\u001b[0m \u001b[32m21.1/21.1 MB\u001b[0m \u001b[31m106.4 MB/s\u001b[0m eta \u001b[36m0:00:00\u001b[0m\n",
            "\u001b[2K   \u001b[90m━━━━━━━━━━━━━━━━━━━━━━━━━━━━━━━━━━━━━━━━\u001b[0m \u001b[32m61.2/61.2 kB\u001b[0m \u001b[31m6.3 MB/s\u001b[0m eta \u001b[36m0:00:00\u001b[0m\n",
            "\u001b[2K   \u001b[90m━━━━━━━━━━━━━━━━━━━━━━━━━━━━━━━━━━━━━━━━\u001b[0m \u001b[32m247.0/247.0 kB\u001b[0m \u001b[31m20.8 MB/s\u001b[0m eta \u001b[36m0:00:00\u001b[0m\n",
            "\u001b[2K   \u001b[90m━━━━━━━━━━━━━━━━━━━━━━━━━━━━━━━━━━━━━━━━\u001b[0m \u001b[32m1.1/1.1 MB\u001b[0m \u001b[31m68.6 MB/s\u001b[0m eta \u001b[36m0:00:00\u001b[0m\n",
            "\u001b[2K   \u001b[90m━━━━━━━━━━━━━━━━━━━━━━━━━━━━━━━━━━━━━━━━\u001b[0m \u001b[32m305.2/305.2 kB\u001b[0m \u001b[31m26.4 MB/s\u001b[0m eta \u001b[36m0:00:00\u001b[0m\n",
            "\u001b[2K   \u001b[90m━━━━━━━━━━━━━━━━━━━━━━━━━━━━━━━━━━━━━━━━\u001b[0m \u001b[32m39.7/39.7 MB\u001b[0m \u001b[31m17.8 MB/s\u001b[0m eta \u001b[36m0:00:00\u001b[0m\n",
            "\u001b[2K   \u001b[90m━━━━━━━━━━━━━━━━━━━━━━━━━━━━━━━━━━━━━━━━\u001b[0m \u001b[32m45.2/45.2 kB\u001b[0m \u001b[31m4.2 MB/s\u001b[0m eta \u001b[36m0:00:00\u001b[0m\n",
            "\u001b[2K   \u001b[90m━━━━━━━━━━━━━━━━━━━━━━━━━━━━━━━━━━━━━━━━\u001b[0m \u001b[32m2.8/2.8 MB\u001b[0m \u001b[31m105.4 MB/s\u001b[0m eta \u001b[36m0:00:00\u001b[0m\n",
            "\u001b[?25h   - تثبيت مكتبة uv الإضافية...\n",
            "\u001b[2K   \u001b[90m━━━━━━━━━━━━━━━━━━━━━━━━━━━━━━━━━━━━━━━━\u001b[0m \u001b[32m19.2/19.2 MB\u001b[0m \u001b[31m87.1 MB/s\u001b[0m eta \u001b[36m0:00:00\u001b[0m\n",
            "\u001b[?25h✅ تم تثبيت كل المتطلبات بنجاح.\n",
            "\n",
            "--- 3/4: تثبيت الإضافات...\n",
            "/content/ComfyUI/custom_nodes\n",
            "\u001b[2K   \u001b[90m━━━━━━━━━━━━━━━━━━━━━━━━━━━━━━━━━━━━━━━━\u001b[0m \u001b[32m416.5/416.5 kB\u001b[0m \u001b[31m11.5 MB/s\u001b[0m eta \u001b[36m0:00:00\u001b[0m\n",
            "\u001b[2K   \u001b[90m━━━━━━━━━━━━━━━━━━━━━━━━━━━━━━━━━━━━━━━━\u001b[0m \u001b[32m182.0/182.0 kB\u001b[0m \u001b[31m18.0 MB/s\u001b[0m eta \u001b[36m0:00:00\u001b[0m\n",
            "\u001b[2K   \u001b[90m━━━━━━━━━━━━━━━━━━━━━━━━━━━━━━━━━━━━━━━━\u001b[0m \u001b[32m2.3/2.3 MB\u001b[0m \u001b[31m71.4 MB/s\u001b[0m eta \u001b[36m0:00:00\u001b[0m\n",
            "\u001b[2K   \u001b[90m━━━━━━━━━━━━━━━━━━━━━━━━━━━━━━━━━━━━━━━━\u001b[0m \u001b[32m856.7/856.7 kB\u001b[0m \u001b[31m64.3 MB/s\u001b[0m eta \u001b[36m0:00:00\u001b[0m\n",
            "\u001b[2K   \u001b[90m━━━━━━━━━━━━━━━━━━━━━━━━━━━━━━━━━━━━━━━━\u001b[0m \u001b[32m55.0/55.0 kB\u001b[0m \u001b[31m6.0 MB/s\u001b[0m eta \u001b[36m0:00:00\u001b[0m\n",
            "\u001b[?25h✅ تم تثبيت الإضافات بنجاح.\n",
            "\n",
            "--- 4/4: تحميل النموذج الأساسي (هذه الخطوة قد تستغرق وقتاً طويلاً)...\n",
            "   - ❌ فشل تحميل النموذج. الخطأ: 401 Client Error: Unauthorized for url: https://huggingface.co/stabilityai/stable-diffusion-3-medium/resolve/main/sd3_medium_incl_clips.safetensors (Request ID: Root=1-6899a55e-05118a4a2422737047633c3e;883cab1a-5ab0-491b-b13f-82c9b67aefac)\n",
            "\n",
            "Invalid credentials in Authorization header\n",
            "\n",
            "🎉🎉🎉 اكتمل الإعداد الكامل والنهائي! 🎉🎉🎉\n"
          ]
        },
        {
          "output_type": "stream",
          "name": "stderr",
          "text": [
            "/usr/local/lib/python3.11/dist-packages/huggingface_hub/file_download.py:982: UserWarning: `local_dir_use_symlinks` parameter is deprecated and will be ignored. The process to download files to a local folder has been updated and do not rely on symlinks anymore. You only need to pass a destination folder as`local_dir`.\n",
            "For more details, check out https://huggingface.co/docs/huggingface_hub/main/en/guides/download#download-files-to-local-folder.\n",
            "  warnings.warn(\n"
          ]
        }
      ]
    },
    {
      "cell_type": "code",
      "source": [
        "\n",
        "# @title الخلية 3: المشغّل السريع (بدون Drive)\n",
        "import os\n",
        "import time\n",
        "import re\n",
        "from urllib import request, error\n",
        "from google.colab import userdata\n",
        "\n",
        "def wait_for_service(port, timeout=180): # 3 دقائق كافية الآن\n",
        "    print(f\"⏳ جاري انتظار الخادم ليكون جاهزًا...\", end=\"\")\n",
        "    start_time = time.time()\n",
        "    while time.time() - start_time < timeout:\n",
        "        try:\n",
        "            with request.urlopen(f\"http://localhost:{port}/\", timeout=1):\n",
        "                print(\"\\n✅ الخادم يعمل الآن وجاهز للاستقبال.\")\n",
        "                return True\n",
        "        except (error.URLError, ConnectionRefusedError):\n",
        "            print(\".\", end=\"\", flush=True)\n",
        "            time.sleep(2)\n",
        "    print(\"\\n❌ فشل تشغيل الخادم في الوقت المحدد.\")\n",
        "    return False\n",
        "\n",
        "PORT = 8188\n",
        "COMFYUI_DIR = \"/content/ComfyUI\"\n",
        "LOG_FILE = \"/content/comfyui_run.log\"\n",
        "\n",
        "print(\"🧹 خطوة التنظيف: التأكد من أن البورت فارغ...\")\n",
        "get_ipython().system(f'fuser -k {PORT}/tcp')\n",
        "time.sleep(2)\n",
        "print(\"✅ البورت الآن جاهز للاستخدام.\")\n",
        "\n",
        "print(f\"🚀 جاري تشغيل ComfyUI في الخلفية...\")\n",
        "%cd $COMFYUI_DIR\n",
        "get_ipython().system_raw(f'python main.py --listen 0.0.0.0 --port {PORT} --preview-method auto > {LOG_FILE} 2>&1 &')\n",
        "\n",
        "if wait_for_service(PORT):\n",
        "    print(\"\\n🔗 جاري محاولة إنشاء رابط عام عبر Cloudflared...\")\n",
        "    if not os.path.exists(\"/content/cloudflared\"):\n",
        "        get_ipython().system('wget -q -O /content/cloudflared https://github.com/cloudflare/cloudflared/releases/latest/download/cloudflared-linux-amd64')\n",
        "        get_ipython().system('chmod +x /content/cloudflared')\n",
        "    get_ipython().system_raw(f'/content/cloudflared tunnel --url http://localhost:{PORT} --no-autoupdate > /content/cloudflared.log 2>&1 &')\n",
        "    time.sleep(5)\n",
        "    link = None\n",
        "    try:\n",
        "        with open(\"/content/cloudflared.log\", \"r\") as f:\n",
        "            content = f.read()\n",
        "            match = re.search(r\"https://[A-Za-z0-9_-]+\\.trycloudflare\\.com\", content)\n",
        "            if match:\n",
        "                link = match.group(0)\n",
        "    except FileNotFoundError: pass\n",
        "\n",
        "    if link:\n",
        "        print(\"\\n\" + \"=\"*70)\n",
        "        print(\"🎉🎉🎉 نجاح! هذا هو رابط ComfyUI الخاص بك. اضغط عليه لفتحه. 🎉🎉🎉\")\n",
        "        print(link)\n",
        "        print(\"=\"*70)\n",
        "    else: # Fallback to ngrok\n",
        "        print(\"\\n⚠️ فشل Cloudflared، جاري محاولة استخدام ngrok...\")\n",
        "        from pyngrok import ngrok\n",
        "        ngrok_token = userdata.get('NGROK_AUTH_TOKEN')\n",
        "        ngrok.set_auth_token(ngrok_token)\n",
        "        public_url = ngrok.connect(PORT)\n",
        "        print(\"\\n\" + \"=\"*70)\n",
        "        print(\"🎉🎉🎉 نجاح! هذا هو رابط ComfyUI الخاص بك عبر ngrok. 🎉🎉🎉\")\n",
        "        print(public_url)\n",
        "        print(\"=\"*70)\n",
        "else:\n",
        "    print(\"\\n\" + \"=\"*70)\n",
        "    print(\"‼️ فشل الخادم في البدء. جاري عرض سجل الأخطاء:\")\n",
        "    print(\"=\"*70)\n",
        "    get_ipython().system(f'cat {LOG_FILE}')"
      ],
      "metadata": {
        "colab": {
          "base_uri": "https://localhost:8080/"
        },
        "id": "_GdcBEEh-zRX",
        "outputId": "cdd4fc70-5c7c-4724-c7d3-4d2b59f16e74"
      },
      "execution_count": 3,
      "outputs": [
        {
          "output_type": "stream",
          "name": "stdout",
          "text": [
            "🧹 خطوة التنظيف: التأكد من أن البورت فارغ...\n",
            "✅ البورت الآن جاهز للاستخدام.\n",
            "🚀 جاري تشغيل ComfyUI في الخلفية...\n",
            "/content/ComfyUI\n",
            "⏳ جاري انتظار الخادم ليكون جاهزًا...............\n",
            "✅ الخادم يعمل الآن وجاهز للاستقبال.\n",
            "\n",
            "🔗 جاري محاولة إنشاء رابط عام عبر Cloudflared...\n",
            "\n",
            "======================================================================\n",
            "🎉🎉🎉 نجاح! هذا هو رابط ComfyUI الخاص بك. اضغط عليه لفتحه. 🎉🎉🎉\n",
            "https://scholarships-circus-consisting-performer.trycloudflare.com\n",
            "======================================================================\n"
          ]
        }
      ]
    }
  ]
}