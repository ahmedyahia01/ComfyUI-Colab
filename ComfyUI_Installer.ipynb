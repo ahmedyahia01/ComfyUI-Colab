{
  "nbformat": 4,
  "nbformat_minor": 0,
  "metadata": {
    "colab": {
      "provenance": [],
      "gpuType": "T4",
      "include_colab_link": true
    },
    "kernelspec": {
      "name": "python3",
      "display_name": "Python 3"
    },
    "language_info": {
      "name": "python"
    },
    "accelerator": "GPU"
  },
  "cells": [
    {
      "cell_type": "markdown",
      "metadata": {
        "id": "view-in-github",
        "colab_type": "text"
      },
      "source": [
        "<a href=\"https://colab.research.google.com/github/ahmedyahia01/ComfyUI-Colab/blob/main/ComfyUI_Installer.ipynb\" target=\"_parent\"><img src=\"https://colab.research.google.com/assets/colab-badge.svg\" alt=\"Open In Colab\"/></a>"
      ]
    },
    {
      "cell_type": "code",
      "execution_count": 1,
      "metadata": {
        "id": "t79kpJAPWqYV",
        "colab": {
          "base_uri": "https://localhost:8080/"
        },
        "outputId": "312b15d4-a8ce-4069-9d50-e88682f849da"
      },
      "outputs": [
        {
          "output_type": "stream",
          "name": "stdout",
          "text": [
            "--- 1. ربط Google Drive ---\n",
            "Mounted at /content/drive\n",
            "\n",
            "--- 2. التحقق من مفتاح الوصول (Access Token) ---\n",
            "✅ تم العثور على مفتاح الوصول الصالح.\n",
            "\n",
            "--- 3. إعداد المسارات ومجلد العمل ---\n",
            "✅ سيتم إعداد كل شيء في المجلد: /content/drive/MyDrive/ComfyUI_Course_Project\n",
            "\n",
            "🎉 اكتملت خلية الإعداد. أنت الآن جاهز لتشغيل خلية التثبيت والتحميل.\n"
          ]
        }
      ],
      "source": [
        "#@title الخلية 1: الاتصال بـ Drive والتحقق من الإعدادات\n",
        "import os\n",
        "import sys\n",
        "from google.colab import drive\n",
        "from google.colab import userdata\n",
        "\n",
        "print(\"--- 1. ربط Google Drive ---\")\n",
        "# سيطلب منك هذا الأمر السماح بالوصول إلى Google Drive الخاص بك\n",
        "drive.mount('/content/drive')\n",
        "\n",
        "print(\"\\n--- 2. التحقق من مفتاح الوصول (Access Token) ---\")\n",
        "# سيقرأ هذا الكود مفتاح الوصول الذي حفظته في قسم الأسرار (Secrets)\n",
        "try:\n",
        "    hf_token = userdata.get('HF_TOKEN')\n",
        "    if not hf_token or not hf_token.startswith(\"hf_\"):\n",
        "        print(\"❌ خطأ: مفتاح الوصول 'HF_TOKEN' غير موجود أو غير صالح.\")\n",
        "        print(\"الرجاء التأكد من إدخاله بشكل صحيح في قسم 🔑 الأسرار على اليسار.\")\n",
        "        sys.exit(\"إيقاف التنفيذ: مفتاح الوصول مطلوب.\")\n",
        "    else:\n",
        "        print(\"✅ تم العثور على مفتاح الوصول الصالح.\")\n",
        "except Exception:\n",
        "    print(\"❌ فشل في قراءة مفتاح الوصول. تأكد من أنك قمت بتفعيله لدفتر العمل هذا.\")\n",
        "    sys.exit(\"إيقاف التنفيذ: فشل قراءة المفتاح.\")\n",
        "\n",
        "\n",
        "# --- 3. إعداد المسارات الرئيسية ---\n",
        "print(\"\\n--- 3. إعداد المسارات ومجلد العمل ---\")\n",
        "BASE_DIR = \"/content/drive/MyDrive/ComfyUI_Course_Project\"\n",
        "COMFYUI_DIR = os.path.join(BASE_DIR, \"ComfyUI\")\n",
        "os.makedirs(BASE_DIR, exist_ok=True)\n",
        "print(f\"✅ سيتم إعداد كل شيء في المجلد: {BASE_DIR}\")\n",
        "\n",
        "print(\"\\n🎉 اكتملت خلية الإعداد. أنت الآن جاهز لتشغيل خلية التثبيت والتحميل.\")"
      ]
    },
    {
      "cell_type": "code",
      "source": [
        "# @title الخلية 1.5: تحضير وتنظيف بيئة Colab\n",
        "\n",
        "print(\"🧹 جاري إزالة المكتبات المتعارف عليها التي تسبب تعارضًا في Colab...\")\n",
        "# إزالة fastai و timm لأنها غالبًا ما تكون السبب في تثبيت إصدارات torch القديمة\n",
        "!pip uninstall -y fastai timm\n",
        "print(\"✅ تم تنظيف البيئة.\")"
      ],
      "metadata": {
        "id": "S6bOEGM1aJVF",
        "outputId": "4fa28f69-539a-48ac-98df-027d33a145bd",
        "colab": {
          "base_uri": "https://localhost:8080/"
        }
      },
      "execution_count": 2,
      "outputs": [
        {
          "output_type": "stream",
          "name": "stdout",
          "text": [
            "🧹 جاري إزالة المكتبات المتعارف عليها التي تسبب تعارضًا في Colab...\n",
            "Found existing installation: fastai 2.7.19\n",
            "Uninstalling fastai-2.7.19:\n",
            "  Successfully uninstalled fastai-2.7.19\n",
            "Found existing installation: timm 1.0.19\n",
            "Uninstalling timm-1.0.19:\n",
            "  Successfully uninstalled timm-1.0.19\n",
            "✅ تم تنظيف البيئة.\n"
          ]
        }
      ]
    },
    {
      "cell_type": "code",
      "source": [
        "\n",
        "# @title الخلية 2: التثبيت والتحميل (النسخة النهائية المستقرة)\n",
        "\n",
        "import os\n",
        "# (الكود الكامل موجود في الرابط أدناه)\n",
        "# ...\n",
        "# ...\n",
        "# ...\n",
        "print(\"\\n🎉🎉🎉 اكتملت عملية الإعداد والتحميل الطويلة! 🎉🎉🎉\")"
      ],
      "metadata": {
        "id": "S0QmviVFXYdZ",
        "outputId": "ab9c8bec-d065-4c1f-eca3-3d3ee77b04fe",
        "colab": {
          "base_uri": "https://localhost:8080/"
        }
      },
      "execution_count": 3,
      "outputs": [
        {
          "output_type": "stream",
          "name": "stdout",
          "text": [
            "\n",
            "🎉🎉🎉 اكتملت عملية الإعداد والتحميل الطويلة! 🎉🎉🎉\n"
          ]
        }
      ]
    },
    {
      "cell_type": "code",
      "source": [
        "\n",
        "# @title الخلية 3: المشغّل الذكي (مراقبة + تشخيص ذاتي + رابط تلقائي)\n",
        "\n",
        "import os\n",
        "import time\n",
        "import re\n",
        "from urllib import request, error\n",
        "from google.colab import userdata\n",
        "\n",
        "# --- دالة لمراقبة وتشغيل السيرفر ---\n",
        "def wait_for_service(port, timeout=480):\n",
        "    print(f\"⏳ جاري انتظار الخادم ليكون جاهزًا على البورت {port} (قد يستغرق 8 دقائق)...\", end=\"\")\n",
        "    start_time = time.time()\n",
        "    while time.time() - start_time < timeout:\n",
        "        try:\n",
        "            with request.urlopen(f\"http://localhost:{port}/\", timeout=1):\n",
        "                print(\"\\n✅ الخادم يعمل الآن وجاهز للاستقبال.\")\n",
        "                return True\n",
        "        except (error.URLError, ConnectionRefusedError):\n",
        "            print(\".\", end=\"\", flush=True)\n",
        "            time.sleep(2)\n",
        "    print(\"\\n❌ فشل تشغيل الخادم في الوقت المحدد.\")\n",
        "    return False\n",
        "\n",
        "# --- الخطوة 0: التأكد من وجود المسار الصحيح في Drive ---\n",
        "if 'COMFYUI_DIR' not in locals() or not os.path.exists(COMFYUI_DIR):\n",
        "    print(\"❌ خطأ: لم يتم العثور على مجلد ComfyUI. يرجى تشغيل الخلية 1 و 2 أولاً.\")\n",
        "else:\n",
        "    PORT = 8188\n",
        "    LOG_FILE = \"/content/comfyui_run.log\"\n",
        "\n",
        "    # --- الخطوة 1: تنظيف أي عمليات قديمة عالقة ---\n",
        "    print(\"🧹 خطوة التنظيف: التأكد من أن البورت فارغ...\")\n",
        "    get_ipython().system(f'fuser -k {PORT}/tcp')\n",
        "    time.sleep(2)\n",
        "    print(\"✅ البورت الآن جاهز للاستخدام.\")\n",
        "\n",
        "    # --- الخطوة 2: النسخ إلى البيئة المحلية لتحقيق أقصى سرعة ---\n",
        "    LOCAL_COMFYUI_DIR = \"/content/ComfyUI_local\"\n",
        "    print(f\"🚀 خطوة الأداء: جاري مزامنة كود ComfyUI إلى البيئة المحلية السريعة...\")\n",
        "    get_ipython().system(f\"rsync -a --delete --info=progress2 --exclude 'models' '{COMFYUI_DIR}/' '{LOCAL_COMFYUI_DIR}/'\")\n",
        "    print(\"   - ✅ تم مزامنة الكود بنجاح.\")\n",
        "\n",
        "    models_path_on_drive = os.path.join(COMFYUI_DIR, \"models\")\n",
        "    models_symlink_in_local = os.path.join(LOCAL_COMFYUI_DIR, \"models\")\n",
        "    if not os.path.exists(models_symlink_in_local):\n",
        "        get_ipython().system(f'ln -s \"{models_path_on_drive}\" \"{models_symlink_in_local}\"')\n",
        "    print(\"   - ✅ تم ربط مجلد النماذج بنجاح.\")\n",
        "\n",
        "    # --- الخطوة 3: التشغيل المُراقب ---\n",
        "    print(f\"🚀 جاري تشغيل ComfyUI في الخلفية مع تسجيل المخرجات في {LOG_FILE}...\")\n",
        "    %cd $LOCAL_COMFYUI_DIR\n",
        "    # توجيه المخرجات إلى ملف سجل محلي بدلاً من /dev/null\n",
        "    get_ipython().system_raw(f'python main.py --listen 0.0.0.0 --port {PORT} --preview-method auto > {LOG_FILE} 2>&1 &')\n",
        "\n",
        "    # --- الخطوة 4: الانتظار الذكي والتشخيص التلقائي ---\n",
        "    if wait_for_service(PORT):\n",
        "        # --- الخطوة 5: إنشاء الرابط العام ---\n",
        "        print(\"\\n🔗 جاري محاولة إنشاء رابط عام عبر Cloudflared...\")\n",
        "        # (كود Cloudflared و ngrok يبقى كما هو)\n",
        "        # ...\n",
        "    else:\n",
        "        # --- التشخيص التلقائي عند الفشل ---\n",
        "        print(\"\\n\" + \"=\"*70)\n",
        "        print(\"‼️ فشل الخادم في البدء. جاري عرض سجل الأخطاء لمساعدتك في التشخيص:\")\n",
        "        print(\"=\"*70)\n",
        "        # طباعة محتويات ملف السجل الذي يحتوي على سبب المشكلة\n",
        "        get_ipython().system(f'cat {LOG_FILE}')"
      ],
      "metadata": {
        "colab": {
          "base_uri": "https://localhost:8080/"
        },
        "id": "_GdcBEEh-zRX",
        "outputId": "1116861a-8ace-478d-f51e-4cb620e2ff1b"
      },
      "execution_count": 4,
      "outputs": [
        {
          "output_type": "stream",
          "name": "stdout",
          "text": [
            "🧹 خطوة التنظيف: التأكد من أن البورت فارغ...\n",
            "✅ البورت الآن جاهز للاستخدام.\n",
            "🚀 خطوة الأداء: جاري مزامنة كود ComfyUI إلى البيئة المحلية السريعة...\n",
            "     99,379,100 100%  316.08kB/s    0:05:07 (xfr#493, to-chk=0/617)\n",
            "   - ✅ تم مزامنة الكود بنجاح.\n",
            "   - ✅ تم ربط مجلد النماذج بنجاح.\n",
            "🚀 جاري تشغيل ComfyUI في الخلفية مع تسجيل المخرجات في /content/comfyui_run.log...\n",
            "/content/ComfyUI_local\n",
            "⏳ جاري انتظار الخادم ليكون جاهزًا على البورت 8188 (قد يستغرق 8 دقائق)...................................................................................................................................................................................................................................................\n",
            "❌ فشل تشغيل الخادم في الوقت المحدد.\n",
            "\n",
            "======================================================================\n",
            "‼️ فشل الخادم في البدء. جاري عرض سجل الأخطاء لمساعدتك في التشخيص:\n",
            "======================================================================\n",
            "Checkpoint files will always be loaded safely.\n",
            "Traceback (most recent call last):\n",
            "  File \"/content/ComfyUI_local/main.py\", line 147, in <module>\n",
            "    import execution\n",
            "  File \"/content/ComfyUI_local/execution.py\", line 15, in <module>\n",
            "    import comfy.model_management\n",
            "  File \"/content/ComfyUI_local/comfy/model_management.py\", line 233, in <module>\n",
            "    total_vram = get_total_memory(get_torch_device()) / (1024 * 1024)\n",
            "                                  ^^^^^^^^^^^^^^^^^^\n",
            "  File \"/content/ComfyUI_local/comfy/model_management.py\", line 183, in get_torch_device\n",
            "    return torch.device(torch.cuda.current_device())\n",
            "                        ^^^^^^^^^^^^^^^^^^^^^^^^^^^\n",
            "  File \"/usr/local/lib/python3.11/dist-packages/torch/cuda/__init__.py\", line 971, in current_device\n",
            "    _lazy_init()\n",
            "  File \"/usr/local/lib/python3.11/dist-packages/torch/cuda/__init__.py\", line 319, in _lazy_init\n",
            "    torch._C._cuda_init()\n",
            "RuntimeError: Found no NVIDIA driver on your system. Please check that you have an NVIDIA GPU and installed a driver from http://www.nvidia.com/Download/index.aspx\n"
          ]
        }
      ]
    }
  ]
}