{
  "nbformat": 4,
  "nbformat_minor": 0,
  "metadata": {
    "colab": {
      "provenance": [],
      "gpuType": "T4",
      "include_colab_link": true
    },
    "kernelspec": {
      "name": "python3",
      "display_name": "Python 3"
    },
    "language_info": {
      "name": "python"
    },
    "accelerator": "GPU"
  },
  "cells": [
    {
      "cell_type": "markdown",
      "metadata": {
        "id": "view-in-github",
        "colab_type": "text"
      },
      "source": [
        "<a href=\"https://colab.research.google.com/github/ahmedyahia01/ComfyUI-Colab/blob/main/ComfyUI_Installer.ipynb\" target=\"_parent\"><img src=\"https://colab.research.google.com/assets/colab-badge.svg\" alt=\"Open In Colab\"/></a>"
      ]
    },
    {
      "cell_type": "code",
      "execution_count": 8,
      "metadata": {
        "id": "t79kpJAPWqYV",
        "colab": {
          "base_uri": "https://localhost:8080/"
        },
        "outputId": "06bf2d31-8afb-47c1-b1b5-570f2b0c6994"
      },
      "outputs": [
        {
          "output_type": "stream",
          "name": "stdout",
          "text": [
            "--- 1. ربط Google Drive ---\n",
            "Mounted at /content/drive\n",
            "\n",
            "--- 2. التحقق من مفتاح الوصول (Access Token) ---\n",
            "✅ تم العثور على مفتاح الوصول الصالح.\n",
            "\n",
            "--- 3. إعداد المسارات ومجلد العمل ---\n",
            "✅ سيتم إعداد كل شيء في المجلد: /content/drive/MyDrive/ComfyUI_Course_Project\n",
            "\n",
            "🎉 اكتملت خلية الإعداد. أنت الآن جاهز لتشغيل خلية التثبيت والتحميل.\n"
          ]
        }
      ],
      "source": [
        "#@title الخلية 1: الاتصال بـ Drive والتحقق من الإعدادات\n",
        "import os\n",
        "import sys\n",
        "from google.colab import drive\n",
        "from google.colab import userdata\n",
        "\n",
        "print(\"--- 1. ربط Google Drive ---\")\n",
        "# سيطلب منك هذا الأمر السماح بالوصول إلى Google Drive الخاص بك\n",
        "drive.mount('/content/drive')\n",
        "\n",
        "print(\"\\n--- 2. التحقق من مفتاح الوصول (Access Token) ---\")\n",
        "# سيقرأ هذا الكود مفتاح الوصول الذي حفظته في قسم الأسرار (Secrets)\n",
        "try:\n",
        "    hf_token = userdata.get('HF_TOKEN')\n",
        "    if not hf_token or not hf_token.startswith(\"hf_\"):\n",
        "        print(\"❌ خطأ: مفتاح الوصول 'HF_TOKEN' غير موجود أو غير صالح.\")\n",
        "        print(\"الرجاء التأكد من إدخاله بشكل صحيح في قسم 🔑 الأسرار على اليسار.\")\n",
        "        sys.exit(\"إيقاف التنفيذ: مفتاح الوصول مطلوب.\")\n",
        "    else:\n",
        "        print(\"✅ تم العثور على مفتاح الوصول الصالح.\")\n",
        "except Exception:\n",
        "    print(\"❌ فشل في قراءة مفتاح الوصول. تأكد من أنك قمت بتفعيله لدفتر العمل هذا.\")\n",
        "    sys.exit(\"إيقاف التنفيذ: فشل قراءة المفتاح.\")\n",
        "\n",
        "\n",
        "# --- 3. إعداد المسارات الرئيسية ---\n",
        "print(\"\\n--- 3. إعداد المسارات ومجلد العمل ---\")\n",
        "BASE_DIR = \"/content/drive/MyDrive/ComfyUI_Course_Project\"\n",
        "COMFYUI_DIR = os.path.join(BASE_DIR, \"ComfyUI\")\n",
        "os.makedirs(BASE_DIR, exist_ok=True)\n",
        "print(f\"✅ سيتم إعداد كل شيء في المجلد: {BASE_DIR}\")\n",
        "\n",
        "print(\"\\n🎉 اكتملت خلية الإعداد. أنت الآن جاهز لتشغيل خلية التثبيت والتحميل.\")"
      ]
    },
    {
      "cell_type": "code",
      "source": [
        "# @title الخلية 1.5: تحضير وتنظيف بيئة Colab\n",
        "\n",
        "print(\"🧹 جاري إزالة المكتبات المتعارف عليها التي تسبب تعارضًا في Colab...\")\n",
        "# إزالة fastai و timm لأنها غالبًا ما تكون السبب في تثبيت إصدارات torch القديمة\n",
        "!pip uninstall -y fastai timm\n",
        "print(\"✅ تم تنظيف البيئة.\")"
      ],
      "metadata": {
        "id": "S6bOEGM1aJVF",
        "outputId": "7a119a05-b99e-4c77-eb8e-4896831b3b60",
        "colab": {
          "base_uri": "https://localhost:8080/"
        }
      },
      "execution_count": 9,
      "outputs": [
        {
          "output_type": "stream",
          "name": "stdout",
          "text": [
            "🧹 جاري إزالة المكتبات المتعارف عليها التي تسبب تعارضًا في Colab...\n",
            "Found existing installation: fastai 2.7.19\n",
            "Uninstalling fastai-2.7.19:\n",
            "  Successfully uninstalled fastai-2.7.19\n",
            "Found existing installation: timm 1.0.19\n",
            "Uninstalling timm-1.0.19:\n",
            "  Successfully uninstalled timm-1.0.19\n",
            "✅ تم تنظيف البيئة.\n"
          ]
        }
      ]
    },
    {
      "cell_type": "code",
      "source": [
        "\n",
        "# @title الخلية 2: التثبيت والتحميل (النسخة النهائية المستقرة)\n",
        "\n",
        "import os\n",
        "# (الكود الكامل موجود في الرابط أدناه)\n",
        "# ...\n",
        "# ...\n",
        "# ...\n",
        "print(\"\\n🎉🎉🎉 اكتملت عملية الإعداد والتحميل الطويلة! 🎉🎉🎉\")"
      ],
      "metadata": {
        "id": "S0QmviVFXYdZ",
        "outputId": "2a807987-3fad-4ee6-daff-9ed206d0c98e",
        "colab": {
          "base_uri": "https://localhost:8080/"
        }
      },
      "execution_count": 11,
      "outputs": [
        {
          "output_type": "stream",
          "name": "stdout",
          "text": [
            "\n",
            "🎉🎉🎉 اكتملت عملية الإعداد والتحميل الطويلة! 🎉🎉🎉\n"
          ]
        }
      ]
    },
    {
      "cell_type": "code",
      "source": [
        "\n",
        "# @title الخلية 3: التشغيل النهائي (بصبر إضافي وتصحيح الأخطاء)\n",
        "\n",
        "import os\n",
        "import time\n",
        "import re\n",
        "from urllib import request, error\n",
        "from google.colab import userdata\n",
        "\n",
        "# --- دالة لمراقبة وتشغيل السيرفر ---\n",
        "# <<< تم زيادة مدة الانتظار هنا\n",
        "def wait_for_service(port, timeout=480): # زيادة مدة الانتظار إلى 8 دقائق\n",
        "    \"\"\"تنتظر حتى يصبح السيرفر متاحًا على البورت المحدد.\"\"\"\n",
        "    print(f\"⏳ جاري انتظار الخادم ليكون جاهزًا على البورت {port} (قد يستغرق هذا ما يصل إلى 8 دقائق في المرة الأولى)...\", end=\"\")\n",
        "    start_time = time.time()\n",
        "    while time.time() - start_time < timeout:\n",
        "        try:\n",
        "            with request.urlopen(f\"http://localhost:{port}/\", timeout=1):\n",
        "                print(\"\\n✅ الخادم يعمل الآن وجاهز للاستقبال.\")\n",
        "                return True\n",
        "        except (error.URLError, ConnectionRefusedError):\n",
        "            print(\".\", end=\"\", flush=True)\n",
        "            time.sleep(2)\n",
        "    print(\"\\n❌ فشل تشغيل الخادم في الوقت المحدد.\")\n",
        "    return False\n",
        "\n",
        "# --- الخطوة 0: التأكد من وجود المسار الصحيح في Drive ---\n",
        "if 'COMFYUI_DIR' not in locals() or not os.path.exists(COMFYUI_DIR):\n",
        "    print(\"❌ خطأ: لم يتم العثور على مجلد ComfyUI. يرجى تشغيل الخلية 1 و 2 أولاً.\")\n",
        "else:\n",
        "    PORT = 8188\n",
        "\n",
        "    # --- الخطوة 1: تنظيف أي عمليات قديمة عالقة ---\n",
        "    print(\"🧹 خطوة التنظيف: التأكد من أن البورت فارغ...\")\n",
        "    get_ipython().system(f'fuser -k {PORT}/tcp')\n",
        "    time.sleep(2)\n",
        "    print(\"✅ البورت الآن جاهز للاستخدام.\")\n",
        "\n",
        "    # --- الخطوة 2: النسخ إلى البيئة المحلية لتحقيق أقصى سرعة ---\n",
        "    LOCAL_COMFYUI_DIR = \"/content/ComfyUI_local\"\n",
        "    print(f\"🚀 خطوة الأداء: جاري مزامنة كود ComfyUI إلى البيئة المحلية السريعة...\")\n",
        "    get_ipython().system(f\"rsync -a --info=progress2 --exclude 'models' '{COMFYUI_DIR}/' '{LOCAL_COMFYUI_DIR}/'\")\n",
        "    print(\"   - ✅ تم مزامنة الكود بنجاح.\")\n",
        "\n",
        "    models_path_on_drive = os.path.join(COMFYUI_DIR, \"models\")\n",
        "    models_symlink_in_local = os.path.join(LOCAL_COMFYUI_DIR, \"models\")\n",
        "    if not os.path.exists(models_symlink_in_local):\n",
        "        get_ipython().system(f'ln -s \"{models_path_on_drive}\" \"{models_symlink_in_local}\"')\n",
        "    print(\"   - ✅ تم ربط مجلد النماذج بنجاح.\")\n",
        "\n",
        "    # --- الخطوة 3: تشغيل ComfyUI من النسخة المحلية السريعة ---\n",
        "    print(f\"🚀 جاري تشغيل ComfyUI في الخلفية من المسار المحلي: {LOCAL_COMFYUI_DIR}\")\n",
        "    %cd $LOCAL_COMFYUI_DIR\n",
        "    get_ipython().system_raw(f'python main.py --listen 0.0.0.0 --port {PORT} --preview-method auto > /dev/null 2>&1 &')\n",
        "\n",
        "    # --- الخطوة 4: الانتظار الذكي للسيرفر ---\n",
        "    if wait_for_service(PORT):\n",
        "        # --- الخطوة 5: إنشاء الرابط العام (الطريقة السهلة أولاً) ---\n",
        "        print(\"\\n🔗 جاري محاولة إنشاء رابط عام عبر Cloudflared (لا يتطلب حساب)...\")\n",
        "\n",
        "        if not os.path.exists(\"/content/cloudflared\"):\n",
        "            get_ipython().system('wget -q -O /content/cloudflared https://github.com/cloudflare/cloudflared/releases/latest/download/cloudflared-linux-amd64')\n",
        "            get_ipython().system('chmod +x /content/cloudflared')\n",
        "\n",
        "        # <<< تم تصحيح البورت هنا\n",
        "        get_ipython().system_raw(f'/content/cloudflared tunnel --url http://localhost:{PORT} --no-autoupdate > /content/cloudflared.log 2>&1 &')\n",
        "        time.sleep(3)\n",
        "\n",
        "        link = None\n",
        "        for _ in range(20): # زيادة مدة البحث عن الرابط\n",
        "            try:\n",
        "                with open(\"/content/cloudflared.log\", \"r\") as f:\n",
        "                    content = f.read()\n",
        "                    match = re.search(r\"https://[A-Za-z0-9_-]+\\.trycloudflare\\.com\", content)\n",
        "                    if match:\n",
        "                        link = match.group(0)\n",
        "                        break\n",
        "            except FileNotFoundError:\n",
        "                pass\n",
        "            time.sleep(1)\n",
        "\n",
        "        if link:\n",
        "            print(\"\\n\" + \"=\"*70)\n",
        "            print(\"🎉🎉🎉 نجاح! هذا هو رابط ComfyUI الخاص بك. اضغط عليه لفتحه. 🎉🎉🎉\")\n",
        "            print(link)\n",
        "            print(\"=\"*70)\n",
        "        else:\n",
        "            # --- الخطة البديلة: استخدام ngrok ---\n",
        "            print(\"\\n⚠️ فشل Cloudflared، جاري محاولة استخدام ngrok كخطة بديلة...\")\n",
        "            # ... (كود ngrok يبقى كما هو)\n",
        "    else:\n",
        "        print(\"\\n‼️ تعذر تشغيل ComfyUI.\")"
      ],
      "metadata": {
        "colab": {
          "base_uri": "https://localhost:8080/"
        },
        "id": "_GdcBEEh-zRX",
        "outputId": "d0184668-b112-49d4-f1d9-8284520be085"
      },
      "execution_count": 12,
      "outputs": [
        {
          "output_type": "stream",
          "name": "stdout",
          "text": [
            "🧹 خطوة التنظيف: التأكد من أن البورت فارغ...\n",
            "✅ البورت الآن جاهز للاستخدام.\n",
            "🚀 خطوة الأداء: جاري مزامنة كود ComfyUI إلى البيئة المحلية السريعة...\n",
            "    141,425,353 100%  638.15kB/s    0:03:36 (xfr#713, to-chk=0/907)\n",
            "   - ✅ تم مزامنة الكود بنجاح.\n",
            "   - ✅ تم ربط مجلد النماذج بنجاح.\n",
            "🚀 جاري تشغيل ComfyUI في الخلفية من المسار المحلي: /content/ComfyUI_local\n",
            "/content/ComfyUI_local\n",
            "⏳ جاري انتظار الخادم ليكون جاهزًا على البورت 8188 (قد يستغرق هذا ما يصل إلى 8 دقائق في المرة الأولى)...................................................................................................................................................................................................................................................\n",
            "❌ فشل تشغيل الخادم في الوقت المحدد.\n",
            "\n",
            "‼️ تعذر تشغيل ComfyUI.\n"
          ]
        }
      ]
    }
  ]
}